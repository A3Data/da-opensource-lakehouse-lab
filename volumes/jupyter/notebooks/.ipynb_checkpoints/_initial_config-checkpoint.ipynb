{
 "cells": [
  {
   "cell_type": "code",
   "execution_count": 1,
   "id": "c292ef2e-b644-45cf-baa8-7be4a3af7dae",
   "metadata": {
    "execution": {
     "iopub.execute_input": "2023-12-14T13:26:54.435836Z",
     "iopub.status.busy": "2023-12-14T13:26:54.435610Z",
     "iopub.status.idle": "2023-12-14T13:26:54.572888Z",
     "shell.execute_reply": "2023-12-14T13:26:54.571991Z",
     "shell.execute_reply.started": "2023-12-14T13:26:54.435816Z"
    },
    "tags": []
   },
   "outputs": [],
   "source": [
    "import os\n",
    "import pyspark\n",
    "from pyspark.sql import SparkSession"
   ]
  },
  {
   "cell_type": "code",
   "execution_count": 2,
   "id": "5830a2e9-1e86-4422-aa43-eb4b21ed2eaf",
   "metadata": {
    "execution": {
     "iopub.execute_input": "2023-12-14T13:26:54.574904Z",
     "iopub.status.busy": "2023-12-14T13:26:54.574251Z",
     "iopub.status.idle": "2023-12-14T13:26:54.579597Z",
     "shell.execute_reply": "2023-12-14T13:26:54.578651Z",
     "shell.execute_reply.started": "2023-12-14T13:26:54.574883Z"
    },
    "tags": []
   },
   "outputs": [],
   "source": [
    "## URIs\n",
    "NESSIE_URI = os.environ.get(\"NESSIE_URI\")\n",
    "\n",
    "## MINIO KEys\n",
    "MINIO_REGION = os.environ.get(\"MINIO_REGION\")\n",
    "AWS_ACCESS_KEY = os.environ.get(\"MINIO_ACCESS_KEY\")\n",
    "AWS_SECRET_KEY = os.environ.get(\"MINIO_SECRET_KEY\")\n",
    "AWS_S3_ENDPOINT = \"http://minio:9000\"\n",
    "\n",
    "## BUCKETS\n",
    "BRONZE = os.environ.get(\"BRONZE\")\n",
    "SILVER = os.environ.get(\"SILVER\")\n",
    "GOLD = os.environ.get(\"GOLD\")"
   ]
  },
  {
   "cell_type": "code",
   "execution_count": 3,
   "id": "adda2840-a3a5-4b92-b0ed-568e9efc1e5c",
   "metadata": {
    "execution": {
     "iopub.execute_input": "2023-12-14T13:26:54.581794Z",
     "iopub.status.busy": "2023-12-14T13:26:54.580869Z",
     "iopub.status.idle": "2023-12-14T13:26:54.587323Z",
     "shell.execute_reply": "2023-12-14T13:26:54.586419Z",
     "shell.execute_reply.started": "2023-12-14T13:26:54.581764Z"
    },
    "tags": []
   },
   "outputs": [],
   "source": [
    "conf = (\n",
    "    pyspark.SparkConf()\n",
    "        .setAppName('Teste')\n",
    "        .set(\n",
    "            \"spark.jars.packages\",\n",
    "            \"software.amazon.awssdk:bundle:2.17.178,software.amazon.awssdk:url-connection-client:2.17.178,org.apache.iceberg:iceberg-spark-runtime-3.2_2.12:1.4.2,org.projectnessie.nessie-integrations:nessie-spark-extensions-3.2_2.12:0.74.0,org.apache.hadoop:hadoop-aws:3.3.1\",\n",
    "        )\n",
    "        .set(\"spark.sql.execution.pyarrow.enabled\", \"true\")\n",
    "        .set('spark.sql.catalog.nessie', 'org.apache.iceberg.spark.SparkCatalog')\n",
    "        .set('spark.sql.catalog.nessie.uri', NESSIE_URI)\n",
    "        .set('spark.sql.catalog.nessie.ref', 'main')\n",
    "        .set('spark.sql.catalog.nessie.authentication.type', 'NONE')\n",
    "        .set('spark.sql.catalog.nessie.catalog-impl', 'org.apache.iceberg.nessie.NessieCatalog')\n",
    "        .set('spark.sql.catalog.nessie.s3.endpoint', AWS_S3_ENDPOINT)\n",
    "        .set('spark.sql.catalog.nessie.warehouse', BRONZE)\n",
    "        .set('spark.sql.catalog.nessie.io-impl', 'org.apache.iceberg.aws.s3.S3FileIO')\n",
    "        .set(\"spark.hadoop.fs.s3a.impl\", \"org.apache.hadoop.fs.s3a.S3AFileSystem\")\n",
    "        .set('spark.hadoop.fs.s3a.access.key', AWS_ACCESS_KEY)\n",
    "        .set('spark.hadoop.fs.s3a.secret.key', AWS_SECRET_KEY)\n",
    "        .set(\"spark.hadoop.fs.s3a.endpoint\", \"http://minio:9000\")\n",
    "        .set(\"spark.hadoop.fs.s3a.path.style.access\", True)\n",
    "        .set(\n",
    "            \"spark.sql.extensions\",\n",
    "            \"org.apache.iceberg.spark.extensions.IcebergSparkSessionExtensions,org.projectnessie.spark.extensions.NessieSparkSessionExtensions\",\n",
    "        )\n",
    ")"
   ]
  },
  {
   "cell_type": "code",
   "execution_count": 4,
   "id": "350163c7-daab-4e4b-9f1b-15220855eac5",
   "metadata": {
    "execution": {
     "iopub.execute_input": "2023-12-14T13:26:54.590948Z",
     "iopub.status.busy": "2023-12-14T13:26:54.590124Z",
     "iopub.status.idle": "2023-12-14T13:27:00.807383Z",
     "shell.execute_reply": "2023-12-14T13:27:00.806545Z",
     "shell.execute_reply.started": "2023-12-14T13:26:54.590903Z"
    },
    "tags": []
   },
   "outputs": [
    {
     "name": "stdout",
     "output_type": "stream",
     "text": [
      ":: loading settings :: url = jar:file:/usr/local/lib/python3.10/dist-packages/pyspark/jars/ivy-2.5.1.jar!/org/apache/ivy/core/settings/ivysettings.xml\n"
     ]
    },
    {
     "name": "stderr",
     "output_type": "stream",
     "text": [
      "Ivy Default Cache set to: /root/.ivy2/cache\n",
      "The jars for the packages stored in: /root/.ivy2/jars\n",
      "software.amazon.awssdk#bundle added as a dependency\n",
      "software.amazon.awssdk#url-connection-client added as a dependency\n",
      "org.apache.iceberg#iceberg-spark-runtime-3.2_2.12 added as a dependency\n",
      "org.projectnessie.nessie-integrations#nessie-spark-extensions-3.2_2.12 added as a dependency\n",
      "org.apache.hadoop#hadoop-aws added as a dependency\n",
      ":: resolving dependencies :: org.apache.spark#spark-submit-parent-70ba388a-e21f-413b-9fe6-2f3aa40c2c3c;1.0\n",
      "\tconfs: [default]\n",
      "\tfound software.amazon.awssdk#bundle;2.17.178 in central\n",
      "\tfound software.amazon.eventstream#eventstream;1.0.1 in central\n",
      "\tfound software.amazon.awssdk#url-connection-client;2.17.178 in central\n",
      "\tfound software.amazon.awssdk#utils;2.17.178 in central\n",
      "\tfound org.reactivestreams#reactive-streams;1.0.3 in central\n",
      "\tfound software.amazon.awssdk#annotations;2.17.178 in central\n",
      "\tfound org.slf4j#slf4j-api;1.7.30 in central\n",
      "\tfound software.amazon.awssdk#http-client-spi;2.17.178 in central\n",
      "\tfound software.amazon.awssdk#metrics-spi;2.17.178 in central\n",
      "\tfound org.apache.iceberg#iceberg-spark-runtime-3.2_2.12;1.4.2 in central\n",
      "\tfound org.projectnessie.nessie-integrations#nessie-spark-extensions-3.2_2.12;0.74.0 in central\n",
      "\tfound org.apache.hadoop#hadoop-aws;3.3.1 in central\n",
      "\tfound com.amazonaws#aws-java-sdk-bundle;1.11.901 in central\n",
      "\tfound org.wildfly.openssl#wildfly-openssl;1.0.7.Final in central\n",
      ":: resolution report :: resolve 452ms :: artifacts dl 12ms\n",
      "\t:: modules in use:\n",
      "\tcom.amazonaws#aws-java-sdk-bundle;1.11.901 from central in [default]\n",
      "\torg.apache.hadoop#hadoop-aws;3.3.1 from central in [default]\n",
      "\torg.apache.iceberg#iceberg-spark-runtime-3.2_2.12;1.4.2 from central in [default]\n",
      "\torg.projectnessie.nessie-integrations#nessie-spark-extensions-3.2_2.12;0.74.0 from central in [default]\n",
      "\torg.reactivestreams#reactive-streams;1.0.3 from central in [default]\n",
      "\torg.slf4j#slf4j-api;1.7.30 from central in [default]\n",
      "\torg.wildfly.openssl#wildfly-openssl;1.0.7.Final from central in [default]\n",
      "\tsoftware.amazon.awssdk#annotations;2.17.178 from central in [default]\n",
      "\tsoftware.amazon.awssdk#bundle;2.17.178 from central in [default]\n",
      "\tsoftware.amazon.awssdk#http-client-spi;2.17.178 from central in [default]\n",
      "\tsoftware.amazon.awssdk#metrics-spi;2.17.178 from central in [default]\n",
      "\tsoftware.amazon.awssdk#url-connection-client;2.17.178 from central in [default]\n",
      "\tsoftware.amazon.awssdk#utils;2.17.178 from central in [default]\n",
      "\tsoftware.amazon.eventstream#eventstream;1.0.1 from central in [default]\n",
      "\t---------------------------------------------------------------------\n",
      "\t|                  |            modules            ||   artifacts   |\n",
      "\t|       conf       | number| search|dwnlded|evicted|| number|dwnlded|\n",
      "\t---------------------------------------------------------------------\n",
      "\t|      default     |   14  |   0   |   0   |   0   ||   14  |   0   |\n",
      "\t---------------------------------------------------------------------\n",
      ":: retrieving :: org.apache.spark#spark-submit-parent-70ba388a-e21f-413b-9fe6-2f3aa40c2c3c\n",
      "\tconfs: [default]\n",
      "\t0 artifacts copied, 14 already retrieved (0kB/10ms)\n",
      "23/12/14 13:26:56 WARN NativeCodeLoader: Unable to load native-hadoop library for your platform... using builtin-java classes where applicable\n",
      "Using Spark's default log4j profile: org/apache/spark/log4j-defaults.properties\n",
      "Setting default log level to \"WARN\".\n",
      "To adjust logging level use sc.setLogLevel(newLevel). For SparkR, use setLogLevel(newLevel).\n"
     ]
    }
   ],
   "source": [
    "spark = SparkSession.builder.config(conf=conf).getOrCreate()"
   ]
  },
  {
   "cell_type": "code",
   "execution_count": 5,
   "id": "369d610c-d75a-4556-956c-2f53fdffdd26",
   "metadata": {
    "execution": {
     "iopub.execute_input": "2023-12-14T13:27:00.808715Z",
     "iopub.status.busy": "2023-12-14T13:27:00.808455Z",
     "iopub.status.idle": "2023-12-14T13:27:04.011411Z",
     "shell.execute_reply": "2023-12-14T13:27:04.010627Z",
     "shell.execute_reply.started": "2023-12-14T13:27:00.808681Z"
    },
    "tags": []
   },
   "outputs": [
    {
     "name": "stderr",
     "output_type": "stream",
     "text": [
      "SLF4J: Failed to load class \"org.slf4j.impl.StaticLoggerBinder\".\n",
      "SLF4J: Defaulting to no-operation (NOP) logger implementation\n",
      "SLF4J: See http://www.slf4j.org/codes.html#StaticLoggerBinder for further details.\n"
     ]
    },
    {
     "name": "stdout",
     "output_type": "stream",
     "text": [
      "++\n",
      "||\n",
      "++\n",
      "++\n",
      "\n"
     ]
    }
   ],
   "source": [
    "spark.sql(\"CREATE TABLE nessie.names (name STRING) USING iceberg;\").show()"
   ]
  },
  {
   "cell_type": "code",
   "execution_count": 6,
   "id": "33d94af0-ebe1-467a-8636-d27598c37042",
   "metadata": {
    "execution": {
     "iopub.execute_input": "2023-12-14T13:27:04.013077Z",
     "iopub.status.busy": "2023-12-14T13:27:04.012662Z",
     "iopub.status.idle": "2023-12-14T13:27:06.226613Z",
     "shell.execute_reply": "2023-12-14T13:27:06.225664Z",
     "shell.execute_reply.started": "2023-12-14T13:27:04.013054Z"
    },
    "tags": []
   },
   "outputs": [
    {
     "name": "stderr",
     "output_type": "stream",
     "text": [
      "                                                                                \r"
     ]
    },
    {
     "data": {
      "text/plain": [
       "DataFrame[]"
      ]
     },
     "execution_count": 6,
     "metadata": {},
     "output_type": "execute_result"
    }
   ],
   "source": [
    "spark.sql(\"INSERT INTO nessie.names VALUES ('Guilherme Borba')\")"
   ]
  },
  {
   "cell_type": "code",
   "execution_count": 7,
   "id": "fa7782e9-dbef-4907-8dbf-86bbef4701b0",
   "metadata": {
    "execution": {
     "iopub.execute_input": "2023-12-14T13:27:06.227886Z",
     "iopub.status.busy": "2023-12-14T13:27:06.227636Z",
     "iopub.status.idle": "2023-12-14T13:27:06.916014Z",
     "shell.execute_reply": "2023-12-14T13:27:06.914961Z",
     "shell.execute_reply.started": "2023-12-14T13:27:06.227864Z"
    },
    "tags": []
   },
   "outputs": [
    {
     "name": "stdout",
     "output_type": "stream",
     "text": [
      "+---------------+\n",
      "|           name|\n",
      "+---------------+\n",
      "|Guilherme Borba|\n",
      "+---------------+\n",
      "\n"
     ]
    }
   ],
   "source": [
    "spark.sql(\"SELECT * FROM nessie.names;\").show()"
   ]
  },
  {
   "cell_type": "code",
   "execution_count": null,
   "id": "33001ff2-ca8e-44be-a8e7-ac5ae1f2647e",
   "metadata": {},
   "outputs": [],
   "source": []
  }
 ],
 "metadata": {
  "kernelspec": {
   "display_name": "Python 3 (ipykernel)",
   "language": "python",
   "name": "python3"
  },
  "language_info": {
   "codemirror_mode": {
    "name": "ipython",
    "version": 3
   },
   "file_extension": ".py",
   "mimetype": "text/x-python",
   "name": "python",
   "nbconvert_exporter": "python",
   "pygments_lexer": "ipython3",
   "version": "3.10.12"
  }
 },
 "nbformat": 4,
 "nbformat_minor": 5
}
