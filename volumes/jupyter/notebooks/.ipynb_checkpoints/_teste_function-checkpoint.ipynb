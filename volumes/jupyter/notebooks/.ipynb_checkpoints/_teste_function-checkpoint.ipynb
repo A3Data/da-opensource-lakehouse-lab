{
 "cells": [
  {
   "cell_type": "code",
   "execution_count": 2,
   "id": "21926b88-e3b8-4f36-8849-e544df096abb",
   "metadata": {
    "execution": {
     "iopub.execute_input": "2023-12-13T14:54:58.851807Z",
     "iopub.status.busy": "2023-12-13T14:54:58.851121Z",
     "iopub.status.idle": "2023-12-13T14:54:58.855515Z",
     "shell.execute_reply": "2023-12-13T14:54:58.854656Z",
     "shell.execute_reply.started": "2023-12-13T14:54:58.851780Z"
    },
    "tags": []
   },
   "outputs": [],
   "source": [
    "import os\n",
    "from classes import functions as f"
   ]
  },
  {
   "cell_type": "code",
   "execution_count": 3,
   "id": "737f2373-b728-4eae-98a6-fcad54f90550",
   "metadata": {
    "execution": {
     "iopub.execute_input": "2023-12-13T14:56:18.068208Z",
     "iopub.status.busy": "2023-12-13T14:56:18.067409Z",
     "iopub.status.idle": "2023-12-13T14:56:18.073276Z",
     "shell.execute_reply": "2023-12-13T14:56:18.072336Z",
     "shell.execute_reply.started": "2023-12-13T14:56:18.068175Z"
    }
   },
   "outputs": [],
   "source": [
    "## URIs\n",
    "NESSIE_URI = os.environ.get(\"NESSIE_URI\")\n",
    "\n",
    "## MINIO KEys\n",
    "MINIO_REGION = os.environ.get(\"MINIO_REGION\")\n",
    "AWS_ACCESS_KEY = os.environ.get(\"MINIO_ACCESS_KEY\")\n",
    "AWS_SECRET_KEY = os.environ.get(\"MINIO_SECRET_KEY\")\n",
    "AWS_S3_ENDPOINT = \"http://minio:9000\"\n",
    "\n",
    "## BUCKETS\n",
    "BRONZE = os.environ.get(\"BRONZE\")\n",
    "SILVER = os.environ.get(\"SILVER\")\n",
    "GOLD = os.environ.get(\"GOLD\")"
   ]
  },
  {
   "cell_type": "code",
   "execution_count": 7,
   "id": "34cde4f8-3b4a-4b9d-9312-f80a697320ab",
   "metadata": {
    "execution": {
     "iopub.execute_input": "2023-12-13T14:57:36.375944Z",
     "iopub.status.busy": "2023-12-13T14:57:36.375268Z",
     "iopub.status.idle": "2023-12-13T14:57:36.409023Z",
     "shell.execute_reply": "2023-12-13T14:57:36.408225Z",
     "shell.execute_reply.started": "2023-12-13T14:57:36.375908Z"
    },
    "tags": []
   },
   "outputs": [
    {
     "data": {
      "text/html": [
       "\n",
       "            <div>\n",
       "                <p><b>SparkSession - in-memory</b></p>\n",
       "                \n",
       "        <div>\n",
       "            <p><b>SparkContext</b></p>\n",
       "\n",
       "            <p><a href=\"http://4ac34a38ef46:4041\">Spark UI</a></p>\n",
       "\n",
       "            <dl>\n",
       "              <dt>Version</dt>\n",
       "                <dd><code>v3.2.4</code></dd>\n",
       "              <dt>Master</dt>\n",
       "                <dd><code>local[*]</code></dd>\n",
       "              <dt>AppName</dt>\n",
       "                <dd><code>Teste_Function</code></dd>\n",
       "            </dl>\n",
       "        </div>\n",
       "        \n",
       "            </div>\n",
       "        "
      ],
      "text/plain": [
       "<pyspark.sql.session.SparkSession at 0x7fa42792b8e0>"
      ]
     },
     "execution_count": 7,
     "metadata": {},
     "output_type": "execute_result"
    }
   ],
   "source": [
    "spark = f.getOrCreateSparkSession(\n",
    "    app_name = 'Teste_Function',\n",
    "    uri = NESSIE_URI,\n",
    "    aws_endpoint = AWS_S3_ENDPOINT,\n",
    "    access_key = AWS_ACCESS_KEY,\n",
    "    secret_key = AWS_SECRET_KEY,\n",
    "    bucket = BRONZE\n",
    ")\n",
    "spark"
   ]
  },
  {
   "cell_type": "code",
   "execution_count": 8,
   "id": "0d06ae68-cda7-43d8-8f38-015d279c7a90",
   "metadata": {
    "execution": {
     "iopub.execute_input": "2023-12-13T14:57:48.279136Z",
     "iopub.status.busy": "2023-12-13T14:57:48.278706Z",
     "iopub.status.idle": "2023-12-13T14:57:53.480202Z",
     "shell.execute_reply": "2023-12-13T14:57:53.479453Z",
     "shell.execute_reply.started": "2023-12-13T14:57:48.279105Z"
    }
   },
   "outputs": [
    {
     "name": "stderr",
     "output_type": "stream",
     "text": [
      "SLF4J: Failed to load class \"org.slf4j.impl.StaticLoggerBinder\".\n",
      "SLF4J: Defaulting to no-operation (NOP) logger implementation\n",
      "SLF4J: See http://www.slf4j.org/codes.html#StaticLoggerBinder for further details.\n",
      "[Stage 0:>                                                          (0 + 1) / 1]\r"
     ]
    },
    {
     "name": "stdout",
     "output_type": "stream",
     "text": [
      "+---------------+\n",
      "|           name|\n",
      "+---------------+\n",
      "|Guilherme Borba|\n",
      "+---------------+\n",
      "\n"
     ]
    },
    {
     "name": "stderr",
     "output_type": "stream",
     "text": [
      "                                                                                \r"
     ]
    }
   ],
   "source": [
    "spark.sql(\"SELECT * FROM nessie.names;\").show()"
   ]
  },
  {
   "cell_type": "code",
   "execution_count": null,
   "id": "de284dde-681f-4393-82f5-657449b74530",
   "metadata": {},
   "outputs": [],
   "source": []
  }
 ],
 "metadata": {
  "kernelspec": {
   "display_name": "Python 3 (ipykernel)",
   "language": "python",
   "name": "python3"
  },
  "language_info": {
   "codemirror_mode": {
    "name": "ipython",
    "version": 3
   },
   "file_extension": ".py",
   "mimetype": "text/x-python",
   "name": "python",
   "nbconvert_exporter": "python",
   "pygments_lexer": "ipython3",
   "version": "3.10.12"
  }
 },
 "nbformat": 4,
 "nbformat_minor": 5
}
