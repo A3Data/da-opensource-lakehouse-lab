{
 "cells": [
  {
   "cell_type": "code",
   "execution_count": 1,
   "id": "21926b88-e3b8-4f36-8849-e544df096abb",
   "metadata": {
    "execution": {
     "iopub.execute_input": "2023-12-13T15:25:53.720235Z",
     "iopub.status.busy": "2023-12-13T15:25:53.719895Z",
     "iopub.status.idle": "2023-12-13T15:25:53.977122Z",
     "shell.execute_reply": "2023-12-13T15:25:53.976299Z",
     "shell.execute_reply.started": "2023-12-13T15:25:53.720209Z"
    },
    "tags": []
   },
   "outputs": [],
   "source": [
    "import os\n",
    "from classes import functions as f"
   ]
  },
  {
   "cell_type": "code",
   "execution_count": 2,
   "id": "737f2373-b728-4eae-98a6-fcad54f90550",
   "metadata": {
    "execution": {
     "iopub.execute_input": "2023-12-13T15:25:53.978869Z",
     "iopub.status.busy": "2023-12-13T15:25:53.978176Z",
     "iopub.status.idle": "2023-12-13T15:25:53.982962Z",
     "shell.execute_reply": "2023-12-13T15:25:53.982092Z",
     "shell.execute_reply.started": "2023-12-13T15:25:53.978846Z"
    }
   },
   "outputs": [],
   "source": [
    "## URIs\n",
    "NESSIE_URI = os.environ.get(\"NESSIE_URI\")\n",
    "\n",
    "## MINIO KEys\n",
    "MINIO_REGION = os.environ.get(\"MINIO_REGION\")\n",
    "AWS_ACCESS_KEY = os.environ.get(\"MINIO_ACCESS_KEY\")\n",
    "AWS_SECRET_KEY = os.environ.get(\"MINIO_SECRET_KEY\")\n",
    "AWS_S3_ENDPOINT = \"http://minio:9000\"\n",
    "\n",
    "## BUCKETS\n",
    "BRONZE = os.environ.get(\"BRONZE\")\n",
    "SILVER = os.environ.get(\"SILVER\")\n",
    "GOLD = os.environ.get(\"GOLD\")"
   ]
  },
  {
   "cell_type": "code",
   "execution_count": 3,
   "id": "34cde4f8-3b4a-4b9d-9312-f80a697320ab",
   "metadata": {
    "execution": {
     "iopub.execute_input": "2023-12-13T15:25:53.984611Z",
     "iopub.status.busy": "2023-12-13T15:25:53.984156Z",
     "iopub.status.idle": "2023-12-13T15:25:59.575740Z",
     "shell.execute_reply": "2023-12-13T15:25:59.574663Z",
     "shell.execute_reply.started": "2023-12-13T15:25:53.984583Z"
    },
    "tags": []
   },
   "outputs": [
    {
     "name": "stdout",
     "output_type": "stream",
     "text": [
      ":: loading settings :: url = jar:file:/usr/local/lib/python3.10/dist-packages/pyspark/jars/ivy-2.5.1.jar!/org/apache/ivy/core/settings/ivysettings.xml\n"
     ]
    },
    {
     "name": "stderr",
     "output_type": "stream",
     "text": [
      "Ivy Default Cache set to: /root/.ivy2/cache\n",
      "The jars for the packages stored in: /root/.ivy2/jars\n",
      "software.amazon.awssdk#bundle added as a dependency\n",
      "software.amazon.awssdk#url-connection-client added as a dependency\n",
      "org.apache.iceberg#iceberg-spark-runtime-3.2_2.12 added as a dependency\n",
      "org.projectnessie.nessie-integrations#nessie-spark-extensions-3.2_2.12 added as a dependency\n",
      ":: resolving dependencies :: org.apache.spark#spark-submit-parent-a578c196-bfb4-400c-b0d2-f86f430a0995;1.0\n",
      "\tconfs: [default]\n",
      "\tfound software.amazon.awssdk#bundle;2.17.178 in central\n",
      "\tfound software.amazon.eventstream#eventstream;1.0.1 in central\n",
      "\tfound software.amazon.awssdk#url-connection-client;2.17.178 in central\n",
      "\tfound software.amazon.awssdk#utils;2.17.178 in central\n",
      "\tfound org.reactivestreams#reactive-streams;1.0.3 in central\n",
      "\tfound software.amazon.awssdk#annotations;2.17.178 in central\n",
      "\tfound org.slf4j#slf4j-api;1.7.30 in central\n",
      "\tfound software.amazon.awssdk#http-client-spi;2.17.178 in central\n",
      "\tfound software.amazon.awssdk#metrics-spi;2.17.178 in central\n",
      "\tfound org.apache.iceberg#iceberg-spark-runtime-3.2_2.12;1.4.2 in central\n",
      "\tfound org.projectnessie.nessie-integrations#nessie-spark-extensions-3.2_2.12;0.74.0 in central\n",
      ":: resolution report :: resolve 387ms :: artifacts dl 13ms\n",
      "\t:: modules in use:\n",
      "\torg.apache.iceberg#iceberg-spark-runtime-3.2_2.12;1.4.2 from central in [default]\n",
      "\torg.projectnessie.nessie-integrations#nessie-spark-extensions-3.2_2.12;0.74.0 from central in [default]\n",
      "\torg.reactivestreams#reactive-streams;1.0.3 from central in [default]\n",
      "\torg.slf4j#slf4j-api;1.7.30 from central in [default]\n",
      "\tsoftware.amazon.awssdk#annotations;2.17.178 from central in [default]\n",
      "\tsoftware.amazon.awssdk#bundle;2.17.178 from central in [default]\n",
      "\tsoftware.amazon.awssdk#http-client-spi;2.17.178 from central in [default]\n",
      "\tsoftware.amazon.awssdk#metrics-spi;2.17.178 from central in [default]\n",
      "\tsoftware.amazon.awssdk#url-connection-client;2.17.178 from central in [default]\n",
      "\tsoftware.amazon.awssdk#utils;2.17.178 from central in [default]\n",
      "\tsoftware.amazon.eventstream#eventstream;1.0.1 from central in [default]\n",
      "\t---------------------------------------------------------------------\n",
      "\t|                  |            modules            ||   artifacts   |\n",
      "\t|       conf       | number| search|dwnlded|evicted|| number|dwnlded|\n",
      "\t---------------------------------------------------------------------\n",
      "\t|      default     |   11  |   0   |   0   |   0   ||   11  |   0   |\n",
      "\t---------------------------------------------------------------------\n",
      ":: retrieving :: org.apache.spark#spark-submit-parent-a578c196-bfb4-400c-b0d2-f86f430a0995\n",
      "\tconfs: [default]\n",
      "\t0 artifacts copied, 11 already retrieved (0kB/7ms)\n",
      "23/12/13 15:25:55 WARN NativeCodeLoader: Unable to load native-hadoop library for your platform... using builtin-java classes where applicable\n",
      "Using Spark's default log4j profile: org/apache/spark/log4j-defaults.properties\n",
      "Setting default log level to \"WARN\".\n",
      "To adjust logging level use sc.setLogLevel(newLevel). For SparkR, use setLogLevel(newLevel).\n",
      "23/12/13 15:25:56 WARN Utils: Service 'SparkUI' could not bind on port 4040. Attempting port 4041.\n"
     ]
    },
    {
     "data": {
      "text/html": [
       "\n",
       "            <div>\n",
       "                <p><b>SparkSession - in-memory</b></p>\n",
       "                \n",
       "        <div>\n",
       "            <p><b>SparkContext</b></p>\n",
       "\n",
       "            <p><a href=\"http://4ac34a38ef46:4041\">Spark UI</a></p>\n",
       "\n",
       "            <dl>\n",
       "              <dt>Version</dt>\n",
       "                <dd><code>v3.2.4</code></dd>\n",
       "              <dt>Master</dt>\n",
       "                <dd><code>local[*]</code></dd>\n",
       "              <dt>AppName</dt>\n",
       "                <dd><code>Teste_Function</code></dd>\n",
       "            </dl>\n",
       "        </div>\n",
       "        \n",
       "            </div>\n",
       "        "
      ],
      "text/plain": [
       "<pyspark.sql.session.SparkSession at 0x7f87d7b89120>"
      ]
     },
     "execution_count": 3,
     "metadata": {},
     "output_type": "execute_result"
    }
   ],
   "source": [
    "spark = f.getOrCreateSparkSession(\n",
    "    app_name = 'Teste_Function',\n",
    "    uri = NESSIE_URI,\n",
    "    aws_endpoint = AWS_S3_ENDPOINT,\n",
    "    access_key = AWS_ACCESS_KEY,\n",
    "    secret_key = AWS_SECRET_KEY,\n",
    "    bucket = BRONZE\n",
    ")\n",
    "spark"
   ]
  },
  {
   "cell_type": "code",
   "execution_count": 4,
   "id": "0d06ae68-cda7-43d8-8f38-015d279c7a90",
   "metadata": {
    "execution": {
     "iopub.execute_input": "2023-12-13T15:25:59.578001Z",
     "iopub.status.busy": "2023-12-13T15:25:59.577577Z",
     "iopub.status.idle": "2023-12-13T15:26:04.576468Z",
     "shell.execute_reply": "2023-12-13T15:26:04.575705Z",
     "shell.execute_reply.started": "2023-12-13T15:25:59.577972Z"
    }
   },
   "outputs": [
    {
     "name": "stderr",
     "output_type": "stream",
     "text": [
      "SLF4J: Failed to load class \"org.slf4j.impl.StaticLoggerBinder\".\n",
      "SLF4J: Defaulting to no-operation (NOP) logger implementation\n",
      "SLF4J: See http://www.slf4j.org/codes.html#StaticLoggerBinder for further details.\n",
      "[Stage 0:>                                                          (0 + 1) / 1]\r"
     ]
    },
    {
     "name": "stdout",
     "output_type": "stream",
     "text": [
      "+---------------+\n",
      "|           name|\n",
      "+---------------+\n",
      "|Guilherme Borba|\n",
      "+---------------+\n",
      "\n"
     ]
    },
    {
     "name": "stderr",
     "output_type": "stream",
     "text": [
      "                                                                                \r"
     ]
    }
   ],
   "source": [
    "spark.sql(\"SELECT * FROM nessie.names;\").show()"
   ]
  },
  {
   "cell_type": "code",
   "execution_count": null,
   "id": "de284dde-681f-4393-82f5-657449b74530",
   "metadata": {},
   "outputs": [],
   "source": []
  }
 ],
 "metadata": {
  "kernelspec": {
   "display_name": "Python 3 (ipykernel)",
   "language": "python",
   "name": "python3"
  },
  "language_info": {
   "codemirror_mode": {
    "name": "ipython",
    "version": 3
   },
   "file_extension": ".py",
   "mimetype": "text/x-python",
   "name": "python",
   "nbconvert_exporter": "python",
   "pygments_lexer": "ipython3",
   "version": "3.10.12"
  }
 },
 "nbformat": 4,
 "nbformat_minor": 5
}
